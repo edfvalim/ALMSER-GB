{
 "cells": [
  {
   "cell_type": "markdown",
   "metadata": {},
   "source": [
    "# Specifications"
   ]
  },
  {
   "cell_type": "markdown",
   "metadata": {},
   "source": [
    "Execute a single ALMSER experiment"
   ]
  },
  {
   "cell_type": "code",
   "execution_count": 4,
   "metadata": {},
   "outputs": [],
   "source": [
    "import os\n",
    "path = \"/work/aprimpel/2.EDBT_2022/benchmark_tasks/lspc_computers/feature_vector_files/\"\n",
    "output_path = \"/work/aprimpel/2.EDBT_2022/benchmark_tasks/lspc_computers/\"\n",
    "fv_splitter = \"_\"\n",
    "\n",
    "# Active Learning Settings\n",
    "max_queries =30\n",
    "runs = 1\n",
    "query_strategy = 'almser_gb' #almser_gb, uncertainty, disagreeement, almser_group, random\n",
    "files = os.listdir(path)\n",
    "files =[f.replace('.csv','') for f in files]"
   ]
  },
  {
   "cell_type": "markdown",
   "metadata": {},
   "source": [
    "# Passive Learning Results"
   ]
  },
  {
   "cell_type": "code",
   "execution_count": null,
   "metadata": {},
   "outputs": [],
   "source": [
    "from learningutils import *\n",
    "from sklearn.metrics import precision_recall_fscore_support, accuracy_score\n",
    "from collections import Counter \n",
    "\n",
    "pairs_fv_train= pd.read_csv(output_path+\"train_pairs_fv.csv\")\n",
    "pairs_fv_test= pd.read_csv(output_path+\"test_pairs_fv.csv\")\n",
    "\n",
    "metadata_columns = ['source_id','target_id','pair_id', 'agg_score','source','target', 'label']\n",
    "train_X = pairs_fv_train.drop(metadata_columns, axis=1)\n",
    "train_y = pairs_fv_train['label']\n",
    "\n",
    "test_X = pairs_fv_test.drop(metadata_columns, axis=1)\n",
    "test_y = pairs_fv_test['label']\n",
    "\n",
    "\n",
    "model = getClassifier('rf')\n",
    "model.fit(train_X,train_y)\n",
    "predictions = model.predict(test_X)\n",
    "prec, recall, fscore, support  = precision_recall_fscore_support(test_y, predictions, average='binary')\n",
    "\n",
    "print(\"Passive learing results: %f P, %f R, %f F1\" % (prec,recall,fscore))"
   ]
  },
  {
   "cell_type": "markdown",
   "metadata": {},
   "source": [
    "# Load the stored files and start ALMSER"
   ]
  },
  {
   "cell_type": "code",
   "execution_count": 5,
   "metadata": {},
   "outputs": [
    {
     "name": "stdout",
     "output_type": "stream",
     "text": [
      "/work/aprimpel/2.EDBT_2022/benchmark_tasks/lspc_computers/\n",
      "RUN 0\n",
      "Bootstrap model\n",
      "Bootstrap labeled set\n",
      "Start ALMSER\n",
      "ALMSER Mode: Active Learning |███-------------------------------------------------------------------------------------------------| 3.3% "
     ]
    },
    {
     "name": "stderr",
     "output_type": "stream",
     "text": [
      "/work/aprimpel/python3_venv/transfer_venv_/lib/python3.7/site-packages/sklearn/linear_model/_logistic.py:765: ConvergenceWarning: lbfgs failed to converge (status=1):\n",
      "STOP: TOTAL NO. of ITERATIONS REACHED LIMIT.\n",
      "\n",
      "Increase the number of iterations (max_iter) or scale the data as shown in:\n",
      "    https://scikit-learn.org/stable/modules/preprocessing.html\n",
      "Please also refer to the documentation for alternative solver options:\n",
      "    https://scikit-learn.org/stable/modules/linear_model.html#logistic-regression\n",
      "  extra_warning_msg=_LOGISTIC_SOLVER_CONVERGENCE_MSG)\n"
     ]
    },
    {
     "name": "stdout",
     "output_type": "stream",
     "text": [
      "ALMSER Mode: Active Learning |██████████------------------------------------------------------------------------------------------| 10.0% "
     ]
    },
    {
     "name": "stderr",
     "output_type": "stream",
     "text": [
      "/work/aprimpel/python3_venv/transfer_venv_/lib/python3.7/site-packages/sklearn/linear_model/_logistic.py:765: ConvergenceWarning: lbfgs failed to converge (status=1):\n",
      "STOP: TOTAL NO. of ITERATIONS REACHED LIMIT.\n",
      "\n",
      "Increase the number of iterations (max_iter) or scale the data as shown in:\n",
      "    https://scikit-learn.org/stable/modules/preprocessing.html\n",
      "Please also refer to the documentation for alternative solver options:\n",
      "    https://scikit-learn.org/stable/modules/linear_model.html#logistic-regression\n",
      "  extra_warning_msg=_LOGISTIC_SOLVER_CONVERGENCE_MSG)\n"
     ]
    },
    {
     "name": "stdout",
     "output_type": "stream",
     "text": [
      "\r",
      "ALMSER Mode: Active Learning |█████████████---------------------------------------------------------------------------------------| 13.3% "
     ]
    },
    {
     "name": "stderr",
     "output_type": "stream",
     "text": [
      "/work/aprimpel/python3_venv/transfer_venv_/lib/python3.7/site-packages/sklearn/linear_model/_logistic.py:765: ConvergenceWarning: lbfgs failed to converge (status=1):\n",
      "STOP: TOTAL NO. of ITERATIONS REACHED LIMIT.\n",
      "\n",
      "Increase the number of iterations (max_iter) or scale the data as shown in:\n",
      "    https://scikit-learn.org/stable/modules/preprocessing.html\n",
      "Please also refer to the documentation for alternative solver options:\n",
      "    https://scikit-learn.org/stable/modules/linear_model.html#logistic-regression\n",
      "  extra_warning_msg=_LOGISTIC_SOLVER_CONVERGENCE_MSG)\n"
     ]
    },
    {
     "name": "stdout",
     "output_type": "stream",
     "text": [
      "ALMSER Mode: Active Learning |██████████████████████████████----------------------------------------------------------------------| 30.0% "
     ]
    },
    {
     "name": "stderr",
     "output_type": "stream",
     "text": [
      "/work/aprimpel/python3_venv/transfer_venv_/lib/python3.7/site-packages/sklearn/linear_model/_logistic.py:765: ConvergenceWarning: lbfgs failed to converge (status=1):\n",
      "STOP: TOTAL NO. of ITERATIONS REACHED LIMIT.\n",
      "\n",
      "Increase the number of iterations (max_iter) or scale the data as shown in:\n",
      "    https://scikit-learn.org/stable/modules/preprocessing.html\n",
      "Please also refer to the documentation for alternative solver options:\n",
      "    https://scikit-learn.org/stable/modules/linear_model.html#logistic-regression\n",
      "  extra_warning_msg=_LOGISTIC_SOLVER_CONVERGENCE_MSG)\n"
     ]
    },
    {
     "name": "stdout",
     "output_type": "stream",
     "text": [
      "\r",
      "ALMSER Mode: Active Learning |█████████████████████████████████-------------------------------------------------------------------| 33.3% "
     ]
    },
    {
     "name": "stderr",
     "output_type": "stream",
     "text": [
      "/work/aprimpel/python3_venv/transfer_venv_/lib/python3.7/site-packages/sklearn/linear_model/_logistic.py:765: ConvergenceWarning: lbfgs failed to converge (status=1):\n",
      "STOP: TOTAL NO. of ITERATIONS REACHED LIMIT.\n",
      "\n",
      "Increase the number of iterations (max_iter) or scale the data as shown in:\n",
      "    https://scikit-learn.org/stable/modules/preprocessing.html\n",
      "Please also refer to the documentation for alternative solver options:\n",
      "    https://scikit-learn.org/stable/modules/linear_model.html#logistic-regression\n",
      "  extra_warning_msg=_LOGISTIC_SOLVER_CONVERGENCE_MSG)\n"
     ]
    },
    {
     "name": "stdout",
     "output_type": "stream",
     "text": [
      "\r",
      "ALMSER Mode: Active Learning |█████████████████████████████████████---------------------------------------------------------------| 36.7% "
     ]
    },
    {
     "name": "stderr",
     "output_type": "stream",
     "text": [
      "/work/aprimpel/python3_venv/transfer_venv_/lib/python3.7/site-packages/sklearn/linear_model/_logistic.py:765: ConvergenceWarning: lbfgs failed to converge (status=1):\n",
      "STOP: TOTAL NO. of ITERATIONS REACHED LIMIT.\n",
      "\n",
      "Increase the number of iterations (max_iter) or scale the data as shown in:\n",
      "    https://scikit-learn.org/stable/modules/preprocessing.html\n",
      "Please also refer to the documentation for alternative solver options:\n",
      "    https://scikit-learn.org/stable/modules/linear_model.html#logistic-regression\n",
      "  extra_warning_msg=_LOGISTIC_SOLVER_CONVERGENCE_MSG)\n"
     ]
    },
    {
     "name": "stdout",
     "output_type": "stream",
     "text": [
      "\r",
      "ALMSER Mode: Active Learning |████████████████████████████████████████------------------------------------------------------------| 40.0% "
     ]
    },
    {
     "name": "stderr",
     "output_type": "stream",
     "text": [
      "/work/aprimpel/python3_venv/transfer_venv_/lib/python3.7/site-packages/sklearn/linear_model/_logistic.py:765: ConvergenceWarning: lbfgs failed to converge (status=1):\n",
      "STOP: TOTAL NO. of ITERATIONS REACHED LIMIT.\n",
      "\n",
      "Increase the number of iterations (max_iter) or scale the data as shown in:\n",
      "    https://scikit-learn.org/stable/modules/preprocessing.html\n",
      "Please also refer to the documentation for alternative solver options:\n",
      "    https://scikit-learn.org/stable/modules/linear_model.html#logistic-regression\n",
      "  extra_warning_msg=_LOGISTIC_SOLVER_CONVERGENCE_MSG)\n"
     ]
    },
    {
     "name": "stdout",
     "output_type": "stream",
     "text": [
      "\r",
      "ALMSER Mode: Active Learning |███████████████████████████████████████████---------------------------------------------------------| 43.3% "
     ]
    },
    {
     "name": "stderr",
     "output_type": "stream",
     "text": [
      "/work/aprimpel/python3_venv/transfer_venv_/lib/python3.7/site-packages/sklearn/linear_model/_logistic.py:765: ConvergenceWarning: lbfgs failed to converge (status=1):\n",
      "STOP: TOTAL NO. of ITERATIONS REACHED LIMIT.\n",
      "\n",
      "Increase the number of iterations (max_iter) or scale the data as shown in:\n",
      "    https://scikit-learn.org/stable/modules/preprocessing.html\n",
      "Please also refer to the documentation for alternative solver options:\n",
      "    https://scikit-learn.org/stable/modules/linear_model.html#logistic-regression\n",
      "  extra_warning_msg=_LOGISTIC_SOLVER_CONVERGENCE_MSG)\n"
     ]
    },
    {
     "name": "stdout",
     "output_type": "stream",
     "text": [
      "ALMSER Mode: Active Learning |██████████████████████████████████████████████████--------------------------------------------------| 50.0% "
     ]
    },
    {
     "name": "stderr",
     "output_type": "stream",
     "text": [
      "/work/aprimpel/python3_venv/transfer_venv_/lib/python3.7/site-packages/sklearn/linear_model/_logistic.py:765: ConvergenceWarning: lbfgs failed to converge (status=1):\n",
      "STOP: TOTAL NO. of ITERATIONS REACHED LIMIT.\n",
      "\n",
      "Increase the number of iterations (max_iter) or scale the data as shown in:\n",
      "    https://scikit-learn.org/stable/modules/preprocessing.html\n",
      "Please also refer to the documentation for alternative solver options:\n",
      "    https://scikit-learn.org/stable/modules/linear_model.html#logistic-regression\n",
      "  extra_warning_msg=_LOGISTIC_SOLVER_CONVERGENCE_MSG)\n"
     ]
    },
    {
     "name": "stdout",
     "output_type": "stream",
     "text": [
      "\r",
      "ALMSER Mode: Active Learning |█████████████████████████████████████████████████████-----------------------------------------------| 53.3% "
     ]
    },
    {
     "name": "stderr",
     "output_type": "stream",
     "text": [
      "/work/aprimpel/python3_venv/transfer_venv_/lib/python3.7/site-packages/sklearn/linear_model/_logistic.py:765: ConvergenceWarning: lbfgs failed to converge (status=1):\n",
      "STOP: TOTAL NO. of ITERATIONS REACHED LIMIT.\n",
      "\n",
      "Increase the number of iterations (max_iter) or scale the data as shown in:\n",
      "    https://scikit-learn.org/stable/modules/preprocessing.html\n",
      "Please also refer to the documentation for alternative solver options:\n",
      "    https://scikit-learn.org/stable/modules/linear_model.html#logistic-regression\n",
      "  extra_warning_msg=_LOGISTIC_SOLVER_CONVERGENCE_MSG)\n"
     ]
    },
    {
     "name": "stdout",
     "output_type": "stream",
     "text": [
      "\r",
      "ALMSER Mode: Active Learning |█████████████████████████████████████████████████████████-------------------------------------------| 56.7% "
     ]
    },
    {
     "name": "stderr",
     "output_type": "stream",
     "text": [
      "/work/aprimpel/python3_venv/transfer_venv_/lib/python3.7/site-packages/sklearn/linear_model/_logistic.py:765: ConvergenceWarning: lbfgs failed to converge (status=1):\n",
      "STOP: TOTAL NO. of ITERATIONS REACHED LIMIT.\n",
      "\n",
      "Increase the number of iterations (max_iter) or scale the data as shown in:\n",
      "    https://scikit-learn.org/stable/modules/preprocessing.html\n",
      "Please also refer to the documentation for alternative solver options:\n",
      "    https://scikit-learn.org/stable/modules/linear_model.html#logistic-regression\n",
      "  extra_warning_msg=_LOGISTIC_SOLVER_CONVERGENCE_MSG)\n"
     ]
    },
    {
     "name": "stdout",
     "output_type": "stream",
     "text": [
      "\r",
      "ALMSER Mode: Active Learning |████████████████████████████████████████████████████████████----------------------------------------| 60.0% "
     ]
    },
    {
     "name": "stderr",
     "output_type": "stream",
     "text": [
      "/work/aprimpel/python3_venv/transfer_venv_/lib/python3.7/site-packages/sklearn/linear_model/_logistic.py:765: ConvergenceWarning: lbfgs failed to converge (status=1):\n",
      "STOP: TOTAL NO. of ITERATIONS REACHED LIMIT.\n",
      "\n",
      "Increase the number of iterations (max_iter) or scale the data as shown in:\n",
      "    https://scikit-learn.org/stable/modules/preprocessing.html\n",
      "Please also refer to the documentation for alternative solver options:\n",
      "    https://scikit-learn.org/stable/modules/linear_model.html#logistic-regression\n",
      "  extra_warning_msg=_LOGISTIC_SOLVER_CONVERGENCE_MSG)\n"
     ]
    },
    {
     "name": "stdout",
     "output_type": "stream",
     "text": [
      "ALMSER Mode: Active Learning |████████████████████████████████████████████████████████████████████████████████████████████████████| 100.0% \n"
     ]
    }
   ],
   "source": [
    "from scoreaggregation import *\n",
    "from ALMSER import *\n",
    "from ALMSER_EXP import *\n",
    "from ALMSER_log import *\n",
    "\n",
    "almser_path = output_path\n",
    "print(almser_path)\n",
    "\n",
    "pairs_fv_train= pd.read_csv(almser_path+\"train_pairs_fv.csv\")\n",
    "pairs_fv_train['datasource_pair'] = pairs_fv_train['source'].str.rsplit('_', 1).str[0]+fv_splitter+pairs_fv_train['target'].str.rsplit('_', 1).str[0]\n",
    "\n",
    "pairs_fv_test= pd.read_csv(almser_path+\"test_pairs_fv.csv\")\n",
    "pairs_fv_test['datasource_pair'] = pairs_fv_test['source'].str.rsplit('_', 1).str[0]+fv_splitter+pairs_fv_test['target'].str.rsplit('_', 1).str[0]\n",
    "\n",
    "if(query_strategy == 'almser_group'):\n",
    "    try:\n",
    "        rltd = pd.read_csv(almser_path+\"/heatmap.csv\", index_col=0)\n",
    "        #rltd = pd.read_csv(almser_path+\"/task_relatedness.csv\", index_col=0)\n",
    "    except:\n",
    "        print(\"ALMSERgroup query strategy needs a relatedness/ heatmap .csv file. Please check.\")\n",
    "else: rltd =None\n",
    "\n",
    "all_nodes_test_match = set(pairs_fv_test[pairs_fv_test.label]['source'].values)\n",
    "all_nodes_test_match.update(set(pairs_fv_test[pairs_fv_test.label]['target'].values))\n",
    "\n",
    "all_nodes_train_match = set(pairs_fv_train[pairs_fv_train.label]['source'].values)\n",
    "all_nodes_train_match.update(set(pairs_fv_train[pairs_fv_train.label]['target'].values))\n",
    "\n",
    "#print(\"Intersection:\", all_nodes_train_match.intersection(all_nodes_test_match))\n",
    "\n",
    "\n",
    "unique_source_pairs = files\n",
    "results_concat = pd.DataFrame()\n",
    "results_all = pd.DataFrame()\n",
    "\n",
    "for run in range(runs):\n",
    "    print(\"RUN %i\" % run)\n",
    "    almser_exp = ALMSER_EXP(pairs_fv_train, pairs_fv_test, unique_source_pairs, max_queries, 'rf',\n",
    "                        query_strategy, fv_splitter,rltd, bootstrap=True)\n",
    "    \n",
    "    almser_exp.run_AL()\n",
    "    \n",
    "    results_concat= pd.concat((results_concat,(almser_exp.results[['P_model','R_model','F1_model_micro','F1_model_macro','F1_model_micro_boot','F1_model_micro_boost_graph','F1_model_macro_boost_graph']])))\n",
    "\n",
    "results_concat_by_row_index = results_concat.groupby(results_concat.index)\n",
    "results_concat_mean =results_concat_by_row_index.mean(numeric_only=False) \n",
    "results_concat_std =results_concat_by_row_index.apply(np.std)\n",
    "\n",
    "\n",
    "results_all['P'] = results_concat_mean['P_model']\n",
    "results_all['P_std'] = results_concat_std['P_model']\n",
    "results_all['R'] = results_concat_mean['R_model']\n",
    "results_all['R_std'] = results_concat_std['R_model']\n",
    "results_all['F1_micro'] = results_concat_mean['F1_model_micro']\n",
    "results_all['F1_micro_std'] = results_concat_std['F1_model_micro']\n",
    "results_all['F1_macro'] = results_concat_mean['F1_model_macro']\n",
    "results_all['F1_macro_std'] = results_concat_std['F1_model_macro']\n",
    "results_all['F1_micro_boot'] = results_concat_mean['F1_model_micro_boot']\n",
    "results_all['F1_micro_boot_std'] = results_concat_std['F1_model_micro_boot']\n",
    "results_all['F1_model_micro_boost_graph'] = results_concat_mean['F1_model_micro_boost_graph']\n",
    "results_all['F1_model_micro_boost_graph_std'] = results_concat_std['F1_model_micro_boost_graph']\n",
    "results_all['F1_model_macro_boost_graph'] = results_concat_mean['F1_model_macro_boost_graph']\n",
    "results_all['F1_model_macro_boost_graph_std'] = results_concat_std['F1_model_macro_boost_graph']\n"
   ]
  },
  {
   "cell_type": "code",
   "execution_count": 3,
   "metadata": {},
   "outputs": [],
   "source": [
    "#write results\n",
    "from datetime import datetime\n",
    "\n",
    "now = datetime.now()\n",
    "timestamp= now.strftime(\"%d_%m_%H_%M\")\n",
    "filename = \"%i_runs_%i_iter_%s_%s\" %(runs,max_queries,query_strategy,timestamp)\n",
    "\n",
    "#log files\n",
    "almser_exp.results.to_csv(output_path+filename+\"_ALL.csv\", index=False)\n",
    "almser_exp.labeled_set.to_csv(output_path+filename+\"_LABELED_SET_INFO.csv\", index=False)\n",
    "almser_exp.informants_eval.to_csv(output_path+filename+\"_INFORMANTS_EVAL.csv\", index=False)\n",
    "almser_exp.log.log_info.to_csv(output_path+filename+\"_LOG_INFO.csv\", index=False)\n",
    "\n",
    "#actual results\n",
    "results_all.to_csv(output_path+filename+\".csv\", index=False)\n"
   ]
  }
 ],
 "metadata": {
  "kernelspec": {
   "display_name": "Python 3",
   "language": "python",
   "name": "python3"
  },
  "language_info": {
   "codemirror_mode": {
    "name": "ipython",
    "version": 3
   },
   "file_extension": ".py",
   "mimetype": "text/x-python",
   "name": "python",
   "nbconvert_exporter": "python",
   "pygments_lexer": "ipython3",
   "version": "3.7.1"
  }
 },
 "nbformat": 4,
 "nbformat_minor": 4
}
